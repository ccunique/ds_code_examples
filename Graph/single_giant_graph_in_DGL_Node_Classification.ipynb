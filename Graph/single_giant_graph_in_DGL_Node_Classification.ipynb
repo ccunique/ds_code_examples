{
  "nbformat": 4,
  "nbformat_minor": 0,
  "metadata": {
    "kernelspec": {
      "display_name": "Python 3",
      "language": "python",
      "name": "python3"
    },
    "language_info": {
      "codemirror_mode": {
        "name": "ipython",
        "version": 3
      },
      "file_extension": ".py",
      "mimetype": "text/x-python",
      "name": "python",
      "nbconvert_exporter": "python",
      "pygments_lexer": "ipython3",
      "version": "3.7.3"
    },
    "colab": {
      "provenance": [],
      "toc_visible": true,
      "include_colab_link": true
    },
    "accelerator": "GPU"
  },
  "cells": [
    {
      "cell_type": "markdown",
      "metadata": {
        "id": "view-in-github",
        "colab_type": "text"
      },
      "source": [
        "<a href=\"https://colab.research.google.com/github/ccunique/ds_code_examples/blob/main/Graph/single_giant_graph_in_DGL_Node_Classification.ipynb\" target=\"_parent\"><img src=\"https://colab.research.google.com/assets/colab-badge.svg\" alt=\"Open In Colab\"/></a>"
      ]
    },
    {
      "cell_type": "code",
      "metadata": {
        "colab": {
          "base_uri": "https://localhost:8080/",
          "height": 35
        },
        "id": "8LN_LPFXF_MF",
        "outputId": "5b0590db-1890-4299-bfc8-502765d3f9f9"
      },
      "source": [
        "import torch\n",
        "torch.version.cuda"
      ],
      "execution_count": null,
      "outputs": [
        {
          "output_type": "execute_result",
          "data": {
            "application/vnd.google.colaboratory.intrinsic+json": {
              "type": "string"
            },
            "text/plain": [
              "'11.1'"
            ]
          },
          "metadata": {},
          "execution_count": 1
        }
      ]
    },
    {
      "cell_type": "code",
      "metadata": {
        "colab": {
          "base_uri": "https://localhost:8080/"
        },
        "id": "pIXvLXyAGKJH",
        "outputId": "6e45516a-55ba-498b-91ac-6d68707f9df9"
      },
      "source": [
        "!pip install dgl-cu111 -f https://data.dgl.ai/wheels/repo.html"
      ],
      "execution_count": null,
      "outputs": [
        {
          "output_type": "stream",
          "name": "stdout",
          "text": [
            "Looking in links: https://data.dgl.ai/wheels/repo.html\n",
            "Requirement already satisfied: dgl-cu111 in /usr/local/lib/python3.7/dist-packages (0.7.1)\n",
            "Requirement already satisfied: networkx>=2.1 in /usr/local/lib/python3.7/dist-packages (from dgl-cu111) (2.6.3)\n",
            "Requirement already satisfied: numpy>=1.14.0 in /usr/local/lib/python3.7/dist-packages (from dgl-cu111) (1.19.5)\n",
            "Requirement already satisfied: requests>=2.19.0 in /usr/local/lib/python3.7/dist-packages (from dgl-cu111) (2.23.0)\n",
            "Requirement already satisfied: scipy>=1.1.0 in /usr/local/lib/python3.7/dist-packages (from dgl-cu111) (1.4.1)\n",
            "Requirement already satisfied: chardet<4,>=3.0.2 in /usr/local/lib/python3.7/dist-packages (from requests>=2.19.0->dgl-cu111) (3.0.4)\n",
            "Requirement already satisfied: idna<3,>=2.5 in /usr/local/lib/python3.7/dist-packages (from requests>=2.19.0->dgl-cu111) (2.10)\n",
            "Requirement already satisfied: urllib3!=1.25.0,!=1.25.1,<1.26,>=1.21.1 in /usr/local/lib/python3.7/dist-packages (from requests>=2.19.0->dgl-cu111) (1.24.3)\n",
            "Requirement already satisfied: certifi>=2017.4.17 in /usr/local/lib/python3.7/dist-packages (from requests>=2.19.0->dgl-cu111) (2021.5.30)\n"
          ]
        }
      ]
    },
    {
      "cell_type": "markdown",
      "metadata": {
        "id": "0uJexp4N67py"
      },
      "source": [
        "# Stochastic Training of GNN for Node Classification on Large Graphs\n",
        "\n",
        "This tutorial shows how to train a multi-layer GraphSAGE for node classification on Amazon Copurchase Network provided by OGB.  The dataset contains 2.4 million nodes and 61 million edges, hence not fitting in a single GPU.\n",
        "\n",
        "This tutorial's contents include\n",
        "\n",
        "* Creating your DGL graph from your own data in other formats such as CSV.\n",
        "* Training a GNN model with a single machine, a single GPU, on a graph of any size."
      ]
    },
    {
      "cell_type": "markdown",
      "metadata": {
        "id": "ip4vrZl267q2"
      },
      "source": [
        "## Load Dataset\n",
        "\n",
        "Although you can directly use the Python package provided by OGB, for demonstration, we will instead manually download the dataset, peek into its contents, and process it with only `numpy`."
      ]
    },
    {
      "cell_type": "code",
      "metadata": {
        "scrolled": false,
        "id": "uIfOsDEE67rE",
        "colab": {
          "base_uri": "https://localhost:8080/"
        },
        "outputId": "513d663f-2bd2-433d-e1d6-95f81e0197a9"
      },
      "source": [
        "!wget https://snap.stanford.edu/ogb/data/nodeproppred/products.zip"
      ],
      "execution_count": null,
      "outputs": [
        {
          "output_type": "stream",
          "name": "stdout",
          "text": [
            "--2021-10-16 07:04:35--  https://snap.stanford.edu/ogb/data/nodeproppred/products.zip\n",
            "Resolving snap.stanford.edu (snap.stanford.edu)... 171.64.75.80\n",
            "Connecting to snap.stanford.edu (snap.stanford.edu)|171.64.75.80|:443... connected.\n",
            "HTTP request sent, awaiting response... 200 OK\n",
            "Length: 1480993786 (1.4G) [application/zip]\n",
            "Saving to: ‘products.zip’\n",
            "\n",
            "products.zip        100%[===================>]   1.38G  1.63MB/s    in 16m 44s \n",
            "\n",
            "2021-10-16 07:21:20 (1.41 MB/s) - ‘products.zip’ saved [1480993786/1480993786]\n",
            "\n"
          ]
        }
      ]
    },
    {
      "cell_type": "code",
      "metadata": {
        "id": "ELs9N6vt67rX",
        "colab": {
          "base_uri": "https://localhost:8080/"
        },
        "outputId": "e8ed74a1-5f8f-4189-d0a7-5019c4071c3b"
      },
      "source": [
        "!unzip -o products.zip"
      ],
      "execution_count": null,
      "outputs": [
        {
          "output_type": "stream",
          "name": "stdout",
          "text": [
            "Archive:  products.zip\n",
            "   creating: products/\n",
            "   creating: products/split/\n",
            "   creating: products/split/sales_ranking/\n",
            "  inflating: products/split/sales_ranking/test.csv.gz  \n",
            "  inflating: products/split/sales_ranking/train.csv.gz  \n",
            "  inflating: products/split/sales_ranking/valid.csv.gz  \n",
            "   creating: products/processed/\n",
            "   creating: products/raw/\n",
            "  inflating: products/raw/node-label.csv.gz  \n",
            " extracting: products/raw/num-node-list.csv.gz  \n",
            " extracting: products/raw/num-edge-list.csv.gz  \n",
            "  inflating: products/raw/node-feat.csv.gz  \n",
            "  inflating: products/raw/edge.csv.gz  \n",
            "   creating: products/mapping/\n",
            "  inflating: products/mapping/README.md  \n",
            " extracting: products/mapping/labelidx2productcategory.csv.gz  \n",
            "  inflating: products/mapping/nodeidx2asin.csv.gz  \n",
            "  inflating: products/RELEASE_v1.txt  \n"
          ]
        }
      ]
    },
    {
      "cell_type": "markdown",
      "metadata": {
        "id": "sa-C0o1y67rY"
      },
      "source": [
        "The dataset contains these files:\n",
        "\n",
        "* `products/raw/edge.csv` (source-destination pairs)\n",
        "* `products/raw/node-feat.csv` (node features)\n",
        "* `products/raw/node-label.csv` (node labels)\n",
        "* `products/raw/num-edge-list.csv` (number of edges)\n",
        "* `products/raw/num-node-list.csv` (number of nodes)\n",
        "\n",
        "We will only use the first three CSV files.\n",
        "\n",
        "In addition, it also contains the following files defining the training-validation-test split in the directory `products/split/sales_ranking`.  All `train.csv`, `valid.csv` and `test.csv` are text files containing the node IDs in the training/validation/test set, one number per line.\n",
        "\n",
        "<div class=\"alert alert-info\">\n",
        "    <b>Note:</b> The node IDs should be consecutive integers from 0 to the number of nodes minus 1.  If your node ID is not consecutive or not starting from 0 (e.g., starting from 100000), you need to relabel them yourself.  The <code>astype</code> method in pandas DataFrame can conveniently relabel the IDs by converting the type to <code>\"category\"</code>.\n",
        "</div>"
      ]
    },
    {
      "cell_type": "code",
      "metadata": {
        "id": "8xRvY4Pt67rm"
      },
      "source": [
        "import pandas as pd\n",
        "edges = pd.read_csv('products/raw/edge.csv.gz', header=None).values\n",
        "node_features = pd.read_csv('products/raw/node-feat.csv.gz', header=None).values\n",
        "node_labels = pd.read_csv('products/raw/node-label.csv.gz', header=None).values[:, 0]\n",
        "\n",
        "# pd.read_csv yields a DataFrame with one column, so we make them one-dimensional arrays.\n",
        "train_nids = pd.read_csv('products/split/sales_ranking/train.csv.gz', header=None).values[:, 0]\n",
        "valid_nids = pd.read_csv('products/split/sales_ranking/valid.csv.gz', header=None).values[:, 0]\n",
        "test_nids = pd.read_csv('products/split/sales_ranking/test.csv.gz', header=None).values[:, 0]"
      ],
      "execution_count": null,
      "outputs": []
    },
    {
      "cell_type": "code",
      "metadata": {
        "colab": {
          "base_uri": "https://localhost:8080/"
        },
        "id": "gjhaX27U-17_",
        "outputId": "37d978fe-57b0-4435-9d59-bec0fbc1c071"
      },
      "source": [
        "edges[:5]"
      ],
      "execution_count": null,
      "outputs": [
        {
          "output_type": "execute_result",
          "data": {
            "text/plain": [
              "array([[     0, 152857],\n",
              "       [     0,  32104],\n",
              "       [     0,  23158],\n",
              "       [     0, 228358],\n",
              "       [     0, 115556]])"
            ]
          },
          "metadata": {},
          "execution_count": 7
        }
      ]
    },
    {
      "cell_type": "code",
      "metadata": {
        "colab": {
          "base_uri": "https://localhost:8080/"
        },
        "id": "JIAt2INl_WUK",
        "outputId": "8cdd9e3a-45f2-4d4c-b9b4-4db055a1623f"
      },
      "source": [
        "node_features.shape"
      ],
      "execution_count": null,
      "outputs": [
        {
          "output_type": "execute_result",
          "data": {
            "text/plain": [
              "(2449029, 100)"
            ]
          },
          "metadata": {},
          "execution_count": 11
        }
      ]
    },
    {
      "cell_type": "code",
      "metadata": {
        "colab": {
          "base_uri": "https://localhost:8080/"
        },
        "id": "mVsyRlO1_ev2",
        "outputId": "ad12cbb5-5e2a-44f6-f734-92740c045b1d"
      },
      "source": [
        "node_labels.shape"
      ],
      "execution_count": null,
      "outputs": [
        {
          "output_type": "execute_result",
          "data": {
            "text/plain": [
              "(2449029,)"
            ]
          },
          "metadata": {},
          "execution_count": 12
        }
      ]
    },
    {
      "cell_type": "code",
      "metadata": {
        "colab": {
          "base_uri": "https://localhost:8080/"
        },
        "id": "b-YVgHWd_hXK",
        "outputId": "27c6eafb-3d0b-4045-91da-36325dca934c"
      },
      "source": [
        "train_nids.shape"
      ],
      "execution_count": null,
      "outputs": [
        {
          "output_type": "execute_result",
          "data": {
            "text/plain": [
              "(196615,)"
            ]
          },
          "metadata": {},
          "execution_count": 13
        }
      ]
    },
    {
      "cell_type": "markdown",
      "metadata": {
        "id": "eig3jM3B67rp"
      },
      "source": [
        "We construct the graph as follows:"
      ]
    },
    {
      "cell_type": "code",
      "metadata": {
        "id": "GbjdvPdu67r5",
        "colab": {
          "base_uri": "https://localhost:8080/",
          "height": 249
        },
        "outputId": "e82a16ca-fa59-421f-a49e-14699361fcc1"
      },
      "source": [
        "import dgl\n",
        "import torch\n",
        "\n",
        "graph = dgl.graph((edges[:, 0], edges[:, 1]))\n",
        "node_features = torch.FloatTensor(node_features)\n",
        "node_labels = torch.LongTensor(node_labels)\n",
        "\n",
        "# Save the graph, features and training-validation-test split for use for future tutorials.\n",
        "import pickle\n",
        "with open('data.pkl', 'wb') as f:\n",
        "    pickle.dump((graph, node_features, node_labels, train_nids, valid_nids, test_nids), f)"
      ],
      "execution_count": null,
      "outputs": [
        {
          "output_type": "stream",
          "name": "stderr",
          "text": [
            "Using backend: pytorch\n"
          ]
        },
        {
          "output_type": "error",
          "ename": "NameError",
          "evalue": "ignored",
          "traceback": [
            "\u001b[0;31m---------------------------------------------------------------------------\u001b[0m",
            "\u001b[0;31mNameError\u001b[0m                                 Traceback (most recent call last)",
            "\u001b[0;32m<ipython-input-3-62eaf1bbe201>\u001b[0m in \u001b[0;36m<module>\u001b[0;34m()\u001b[0m\n\u001b[1;32m      2\u001b[0m \u001b[0;32mimport\u001b[0m \u001b[0mtorch\u001b[0m\u001b[0;34m\u001b[0m\u001b[0;34m\u001b[0m\u001b[0m\n\u001b[1;32m      3\u001b[0m \u001b[0;34m\u001b[0m\u001b[0m\n\u001b[0;32m----> 4\u001b[0;31m \u001b[0mgraph\u001b[0m \u001b[0;34m=\u001b[0m \u001b[0mdgl\u001b[0m\u001b[0;34m.\u001b[0m\u001b[0mgraph\u001b[0m\u001b[0;34m(\u001b[0m\u001b[0;34m(\u001b[0m\u001b[0medges\u001b[0m\u001b[0;34m[\u001b[0m\u001b[0;34m:\u001b[0m\u001b[0;34m,\u001b[0m \u001b[0;36m0\u001b[0m\u001b[0;34m]\u001b[0m\u001b[0;34m,\u001b[0m \u001b[0medges\u001b[0m\u001b[0;34m[\u001b[0m\u001b[0;34m:\u001b[0m\u001b[0;34m,\u001b[0m \u001b[0;36m1\u001b[0m\u001b[0;34m]\u001b[0m\u001b[0;34m)\u001b[0m\u001b[0;34m)\u001b[0m\u001b[0;34m\u001b[0m\u001b[0;34m\u001b[0m\u001b[0m\n\u001b[0m\u001b[1;32m      5\u001b[0m \u001b[0mnode_features\u001b[0m \u001b[0;34m=\u001b[0m \u001b[0mtorch\u001b[0m\u001b[0;34m.\u001b[0m\u001b[0mFloatTensor\u001b[0m\u001b[0;34m(\u001b[0m\u001b[0mnode_features\u001b[0m\u001b[0;34m)\u001b[0m\u001b[0;34m\u001b[0m\u001b[0;34m\u001b[0m\u001b[0m\n\u001b[1;32m      6\u001b[0m \u001b[0mnode_labels\u001b[0m \u001b[0;34m=\u001b[0m \u001b[0mtorch\u001b[0m\u001b[0;34m.\u001b[0m\u001b[0mLongTensor\u001b[0m\u001b[0;34m(\u001b[0m\u001b[0mnode_labels\u001b[0m\u001b[0;34m)\u001b[0m\u001b[0;34m\u001b[0m\u001b[0;34m\u001b[0m\u001b[0m\n",
            "\u001b[0;31mNameError\u001b[0m: name 'edges' is not defined"
          ]
        }
      ]
    },
    {
      "cell_type": "code",
      "metadata": {
        "colab": {
          "base_uri": "https://localhost:8080/"
        },
        "id": "dSyhLtYdAK6g",
        "outputId": "08b209a3-63ea-4eb2-9cbc-6891481b1976"
      },
      "source": [
        "!ls -lh"
      ],
      "execution_count": null,
      "outputs": [
        {
          "output_type": "stream",
          "name": "stdout",
          "text": [
            "total 3.3G\n",
            "-rw-r--r-- 1 root root 1.9G Oct 16 07:28 data.pkl\n",
            "drwxr-xr-x 6 root root 4.0K May  4  2020 products\n",
            "-rw-r--r-- 1 root root 1.4G May  4  2020 products.zip\n",
            "drwxr-xr-x 1 root root 4.0K Oct  8 13:45 sample_data\n"
          ]
        }
      ]
    },
    {
      "cell_type": "code",
      "metadata": {
        "id": "JeTB2n1367sJ"
      },
      "source": [
        "# Load the graph back from the file we saved\n",
        "import dgl\n",
        "import torch\n",
        "import numpy as np\n",
        "import pickle\n",
        "with open('data.pkl', 'rb') as f:\n",
        "    graph, node_features, node_labels, train_nids, valid_nids, test_nids = pickle.load(f)"
      ],
      "execution_count": null,
      "outputs": []
    },
    {
      "cell_type": "code",
      "metadata": {
        "colab": {
          "base_uri": "https://localhost:8080/"
        },
        "id": "sT2cEbwcAS0J",
        "outputId": "0d5317f6-d190-4a57-ddb0-f1c82cb1d758"
      },
      "source": [
        "graph"
      ],
      "execution_count": null,
      "outputs": [
        {
          "output_type": "execute_result",
          "data": {
            "text/plain": [
              "Graph(num_nodes=2449029, num_edges=61859140,\n",
              "      ndata_schemes={}\n",
              "      edata_schemes={})"
            ]
          },
          "metadata": {},
          "execution_count": 6
        }
      ]
    },
    {
      "cell_type": "code",
      "metadata": {
        "colab": {
          "base_uri": "https://localhost:8080/"
        },
        "id": "1tdjGk2dAbJC",
        "outputId": "879b4cf0-e389-485a-9334-0a9c0c826f1a"
      },
      "source": [
        "graph.edges()"
      ],
      "execution_count": null,
      "outputs": [
        {
          "output_type": "execute_result",
          "data": {
            "text/plain": [
              "(tensor([     0,      0,      0,  ...,  18965, 162836,  53324]),\n",
              " tensor([ 152857,   32104,   23158,  ..., 2449028, 2449028, 2449028]))"
            ]
          },
          "metadata": {},
          "execution_count": 7
        }
      ]
    },
    {
      "cell_type": "code",
      "metadata": {
        "colab": {
          "base_uri": "https://localhost:8080/"
        },
        "id": "t6Na7zB4A6Bo",
        "outputId": "e8222de5-bc9b-4b96-f10e-43f33d13a2ea"
      },
      "source": [
        "node_features"
      ],
      "execution_count": null,
      "outputs": [
        {
          "output_type": "execute_result",
          "data": {
            "text/plain": [
              "tensor([[ 0.0319, -0.1959,  0.0520,  ...,  0.0767, -0.3930, -0.0648],\n",
              "        [-0.0241,  0.6303,  1.0606,  ..., -1.6875,  3.5867,  0.8182],\n",
              "        [ 0.3327, -0.5586, -0.2886,  ..., -0.3716,  0.2521,  0.0415],\n",
              "        ...,\n",
              "        [ 0.1066,  0.2655, -0.0057,  ...,  1.0867,  0.0759, -1.1737],\n",
              "        [ 0.2497, -0.2574,  0.4123,  ...,  1.5466,  1.0310, -0.2966],\n",
              "        [ 0.7175, -0.2393,  0.0443,  ..., -1.0132, -0.4141, -0.0823]])"
            ]
          },
          "metadata": {},
          "execution_count": 8
        }
      ]
    },
    {
      "cell_type": "markdown",
      "metadata": {
        "id": "xEA4UFTI67sY"
      },
      "source": [
        "We can see the size of the graph, features, and labels as follows."
      ]
    },
    {
      "cell_type": "code",
      "metadata": {
        "id": "cpDdsdFy67sb",
        "colab": {
          "base_uri": "https://localhost:8080/"
        },
        "outputId": "fb84c13e-97bb-440a-bd87-293133ded5c2"
      },
      "source": [
        "print('Graph')\n",
        "print(graph)\n",
        "print('Shape of node features:', node_features.shape)\n",
        "print('Shape of node labels:', node_labels.shape)\n",
        "\n",
        "num_features = node_features.shape[1]\n",
        "num_classes = (node_labels.max() + 1).item()\n",
        "print('Number of classes:', num_classes)"
      ],
      "execution_count": null,
      "outputs": [
        {
          "output_type": "stream",
          "name": "stdout",
          "text": [
            "Graph\n",
            "Graph(num_nodes=2449029, num_edges=61859140,\n",
            "      ndata_schemes={}\n",
            "      edata_schemes={})\n",
            "Shape of node features: torch.Size([2449029, 100])\n",
            "Shape of node labels: torch.Size([2449029])\n",
            "Number of classes: 47\n"
          ]
        }
      ]
    },
    {
      "cell_type": "markdown",
      "metadata": {
        "id": "0i9UeSaR67sd"
      },
      "source": [
        "## Define a Data Loader with Neighbor Sampling\n",
        "\n",
        "### Neighbor sampling overview\n",
        "\n",
        "The formulation of message passing usually has the following form:\n",
        "\n",
        "$$\n",
        "\\begin{gathered}\n",
        "  \\boldsymbol{a}_v^{(l)} = \\rho^{(l)} \\left(\n",
        "    \\left\\lbrace\n",
        "      \\boldsymbol{h}_u^{(l-1)} : u \\in \\mathcal{N} \\left( v \\right)\n",
        "    \\right\\rbrace\n",
        "  \\right)\n",
        "\\\\\n",
        "  \\boldsymbol{h}_v^{(l)} = \\phi^{(l)} \\left(\n",
        "    \\boldsymbol{h}_v^{(l-1)}, \\boldsymbol{a}_v^{(l)}\n",
        "  \\right)\n",
        "\\end{gathered}\n",
        "$$\n",
        "\n",
        "where $\\rho^{(l)}$ and $\\phi^{(l)}$ are parameterized functions, and $\\mathcal{N}(v)$ represents the set of predecessors (or equivalently *neighbors*) of $v$ on graph $\\mathcal{G}$:\n",
        "$$\n",
        "\\mathcal{N} \\left( v \\right) = \\left\\lbrace\n",
        "  s \\left( e \\right) : e \\in \\mathbb{E}, t \\left( e \\right) = v\n",
        "\\right\\rbrace\n",
        "$$\n",
        "\n",
        "For instance, to perform a message passing for updating the red node in the following graph:\n",
        "\n",
        "![Imgur](https://github.com/dglai/KDD20-Hands-on-Tutorial/blob/master/4-large_graph/assets/1.png?raw=1)\n",
        "\n",
        "One needs to aggregate the node features of its neighbors, shown as green nodes:\n",
        "\n",
        "![Imgur](https://github.com/dglai/KDD20-Hands-on-Tutorial/blob/master/4-large_graph/assets/2.png?raw=1)"
      ]
    },
    {
      "cell_type": "markdown",
      "metadata": {
        "id": "zIkUG-Jm67sq"
      },
      "source": [
        "Let's consider how multi-layer message passing works for computing the output of a single node.  In the following text, we refer to the nodes whose outputs GNN will compute as seed nodes.\n",
        "\n",
        "Consider computing with a 2-layer GNN the output of the seed node 8, colored red, in the following graph:\n",
        "\n",
        "![Imgur](https://github.com/dglai/KDD20-Hands-on-Tutorial/blob/master/4-large_graph/assets/seed.png?raw=1)\n",
        "\n",
        "By the formulation:\n",
        "\n",
        "$$\n",
        "\\begin{gathered}\n",
        "  \\boldsymbol{a}_8^{(2)} = \\rho^{(2)} \\left(\n",
        "    \\left\\lbrace\n",
        "      \\boldsymbol{h}_u^{(1)} : u \\in \\mathcal{N} \\left( 8 \\right)\n",
        "    \\right\\rbrace\n",
        "  \\right) = \\rho^{(2)} \\left(\n",
        "    \\left\\lbrace\n",
        "      \\boldsymbol{h}_4^{(1)}, \\boldsymbol{h}_5^{(1)},\n",
        "      \\boldsymbol{h}_7^{(1)}, \\boldsymbol{h}_{11}^{(1)}\n",
        "    \\right\\rbrace\n",
        "  \\right)\n",
        "\\\\\n",
        "  \\boldsymbol{h}_8^{(2)} = \\phi^{(2)} \\left(\n",
        "    \\boldsymbol{h}_8^{(1)}, \\boldsymbol{a}_8^{(2)}\n",
        "  \\right)\n",
        "\\end{gathered}\n",
        "$$\n",
        "\n",
        "We can tell from the formulation that, to compute $\\boldsymbol{h}_8^{(2)}$, we need messages from node 4, 5, 7, and 11 (colored green) along the edges visualized below.\n",
        "\n",
        "![Imgur](https://github.com/dglai/KDD20-Hands-on-Tutorial/blob/master/4-large_graph/assets/3.png?raw=1)\n",
        "\n",
        "The values of $\\boldsymbol{h}_\\cdot^{(1)}$ are the outputs from the first GNN layer.  To compute those values for the red and green nodes, we further need to perform message passing on the edges visualized below.\n",
        "\n",
        "![Imgur](https://github.com/dglai/KDD20-Hands-on-Tutorial/blob/master/4-large_graph/assets/4.png?raw=1)\n",
        "\n",
        "Therefore, to compute the 2-layer GNN representation of the red node, we need the input features from the red node as well as the green and yellow nodes.  Note that we should take red node's neighbors again for this layer.\n",
        "\n",
        "You may notice that the procedure which determines computation dependency is in the reverse direction of message aggregation: you start from the layer closest to the output and work backward to the input."
      ]
    },
    {
      "cell_type": "markdown",
      "metadata": {
        "id": "z6R88Xw367sr"
      },
      "source": [
        "You can also see that computing representation for a small number of nodes often requires input features of a significantly larger number of nodes.  Taking all neighbors for message aggregation is often too costly since the nodes needed would easily cover a large portion of the graph.\n",
        "\n",
        "Neighbor sampling addresses this issue by selecting a random subset of the neighbors to perform aggregation.  For instance, to compute $\\boldsymbol{h}_8^{(1)}$, we can choose to sample 2 neighbors and aggregate.\n",
        "\n",
        "![Imgur](https://github.com/dglai/KDD20-Hands-on-Tutorial/blob/master/4-large_graph/assets/5.png?raw=1)\n",
        "\n",
        "Similarly, to compute the red and green nodes' first layer representation, we can also do neighbor sampling that takes 2 neighbors for each node.  Note that we should take the red node's neighbors again for this layer.\n",
        "\n",
        "![Imgur](https://github.com/dglai/KDD20-Hands-on-Tutorial/blob/master/4-large_graph/assets/6.png?raw=1)\n",
        "\n",
        "You can see that this method could give us fewer nodes needed for input features."
      ]
    },
    {
      "cell_type": "markdown",
      "metadata": {
        "id": "Oz04g_Ot67st"
      },
      "source": [
        "### Defining neighbor sampler and data loader in DGL\n",
        "\n",
        "DGL provides useful tools to generate such computation dependencies while iterating over the dataset in minibatches.  For node classification, you can use `dgl.dataloading.NodeDataLoader` for iterating over the dataset, and `dgl.dataloading.MultiLayerNeighborSampler` to generate computation dependencies of the nodes from a multi-layer GNN with neighbor sampling.\n",
        "\n",
        "The syntax of `dgl.dataloading.NodeDataLoader` is mostly similar to a PyTorch `DataLoader`, with the addition that it needs a graph to generate computation dependency from, a set of node IDs to iterate on, and the neighbor sampler you defined.\n",
        "\n",
        "Let's consider training a 3-layer GraphSAGE with neighbor sampling, and each node will gather message from 4 neighbors on each layer.  The code defining the data loader and neighbor sampler will look like the following."
      ]
    },
    {
      "cell_type": "code",
      "metadata": {
        "colab": {
          "base_uri": "https://localhost:8080/"
        },
        "id": "0dpctlvkCGM7",
        "outputId": "a02c651c-6f75-4515-db6a-b5c543a134e9"
      },
      "source": [
        "graph"
      ],
      "execution_count": null,
      "outputs": [
        {
          "output_type": "execute_result",
          "data": {
            "text/plain": [
              "Graph(num_nodes=2449029, num_edges=61859140,\n",
              "      ndata_schemes={}\n",
              "      edata_schemes={})"
            ]
          },
          "metadata": {},
          "execution_count": 10
        }
      ]
    },
    {
      "cell_type": "code",
      "metadata": {
        "id": "yp1P3WZu67s4"
      },
      "source": [
        "sampler = dgl.dataloading.MultiLayerNeighborSampler([4, 4, 4])\n",
        "train_dataloader = dgl.dataloading.NodeDataLoader(\n",
        "    graph, train_nids, sampler,\n",
        "    batch_size=1024,\n",
        "    shuffle=True,\n",
        "    drop_last=False,\n",
        "    num_workers=0\n",
        ")"
      ],
      "execution_count": null,
      "outputs": []
    },
    {
      "cell_type": "markdown",
      "metadata": {
        "id": "CXf-3oC167s7"
      },
      "source": [
        "We can iterate over the data loader we created and see what it gives us."
      ]
    },
    {
      "cell_type": "code",
      "metadata": {
        "id": "WBYF7uaj67s8",
        "colab": {
          "base_uri": "https://localhost:8080/"
        },
        "outputId": "24b0e5dd-505c-4e4a-c72b-482b555ad5d5"
      },
      "source": [
        "example_minibatch = next(iter(train_dataloader))\n",
        "print(example_minibatch)"
      ],
      "execution_count": null,
      "outputs": [
        {
          "output_type": "stream",
          "name": "stdout",
          "text": [
            "[tensor([ 75929,  52592, 116205,  ...,  18550,  11379,   3280]), tensor([ 75929,  52592, 116205,  ..., 182865,  24257,  21553]), [Block(num_src_nodes=34877, num_dst_nodes=15700, num_edges=50967), Block(num_src_nodes=15700, num_dst_nodes=4547, num_edges=15896), Block(num_src_nodes=4547, num_dst_nodes=1024, num_edges=3667)]]\n"
          ]
        }
      ]
    },
    {
      "cell_type": "code",
      "metadata": {
        "colab": {
          "base_uri": "https://localhost:8080/"
        },
        "id": "R0-MoEXwCULg",
        "outputId": "df32abb6-9504-4d42-ebd7-d55f46a76931"
      },
      "source": [
        "len(example_minibatch)"
      ],
      "execution_count": null,
      "outputs": [
        {
          "output_type": "execute_result",
          "data": {
            "text/plain": [
              "3"
            ]
          },
          "metadata": {},
          "execution_count": 13
        }
      ]
    },
    {
      "cell_type": "code",
      "metadata": {
        "colab": {
          "base_uri": "https://localhost:8080/"
        },
        "id": "22Q59JdiCbeC",
        "outputId": "4495c439-90de-411c-d628-a59e322fcf07"
      },
      "source": [
        "example_minibatch[0]"
      ],
      "execution_count": null,
      "outputs": [
        {
          "output_type": "execute_result",
          "data": {
            "text/plain": [
              "tensor([ 75929,  52592, 116205,  ...,  18550,  11379,   3280])"
            ]
          },
          "metadata": {},
          "execution_count": 14
        }
      ]
    },
    {
      "cell_type": "code",
      "metadata": {
        "colab": {
          "base_uri": "https://localhost:8080/"
        },
        "id": "RgcCsZ6WCbZW",
        "outputId": "d8a880c4-8002-4d18-a69f-d962bc077acf"
      },
      "source": [
        "example_minibatch[1]"
      ],
      "execution_count": null,
      "outputs": [
        {
          "output_type": "execute_result",
          "data": {
            "text/plain": [
              "tensor([ 75929,  52592, 116205,  ..., 182865,  24257,  21553])"
            ]
          },
          "metadata": {},
          "execution_count": 15
        }
      ]
    },
    {
      "cell_type": "code",
      "metadata": {
        "colab": {
          "base_uri": "https://localhost:8080/"
        },
        "id": "hn3nfxu6Ce_T",
        "outputId": "8e29be7e-8499-45b3-c48f-496a291287ae"
      },
      "source": [
        "example_minibatch[2]"
      ],
      "execution_count": null,
      "outputs": [
        {
          "output_type": "execute_result",
          "data": {
            "text/plain": [
              "[Block(num_src_nodes=34877, num_dst_nodes=15700, num_edges=50967),\n",
              " Block(num_src_nodes=15700, num_dst_nodes=4547, num_edges=15896),\n",
              " Block(num_src_nodes=4547, num_dst_nodes=1024, num_edges=3667)]"
            ]
          },
          "metadata": {},
          "execution_count": 16
        }
      ]
    },
    {
      "cell_type": "markdown",
      "metadata": {
        "id": "VY8Kc2Sz67s9"
      },
      "source": [
        "`NodeDataLoader` gives us three items per iteration.\n",
        "\n",
        "* The input node list for the nodes whose input features are needed to compute the outputs.\n",
        "* The output node list whose GNN representation are to be computed.\n",
        "* The list of computation dependency for each layer."
      ]
    },
    {
      "cell_type": "code",
      "metadata": {
        "id": "Cj_0lqYw67tK",
        "colab": {
          "base_uri": "https://localhost:8080/"
        },
        "outputId": "8cb4a4db-aff2-4f57-927a-4be07208a2d8"
      },
      "source": [
        "input_nodes, output_nodes, bipartites = example_minibatch\n",
        "print(\"To compute {} nodes' output we need {} nodes' input features\".format(len(output_nodes), len(input_nodes)))"
      ],
      "execution_count": null,
      "outputs": [
        {
          "output_type": "stream",
          "name": "stdout",
          "text": [
            "To compute 1024 nodes' output we need 34877 nodes' input features\n"
          ]
        }
      ]
    },
    {
      "cell_type": "code",
      "metadata": {
        "colab": {
          "base_uri": "https://localhost:8080/"
        },
        "id": "gxZn8V_-LaZP",
        "outputId": "dcb50616-cca4-43c4-ef5e-67a691352b68"
      },
      "source": [
        "# DGL确保块的输出节点将始终出现在输入节点中。如下代码所演示的，在输入节点中，输出节点的ID位于其它节点之前。\n",
        "torch.equal(input_nodes[:len(output_nodes)], output_nodes)"
      ],
      "execution_count": null,
      "outputs": [
        {
          "output_type": "execute_result",
          "data": {
            "text/plain": [
              "True"
            ]
          },
          "metadata": {},
          "execution_count": 27
        }
      ]
    },
    {
      "cell_type": "markdown",
      "metadata": {
        "id": "t45uUF6T67tM"
      },
      "source": [
        "The variable `bipartites` shows how messages aggregate on each layer.  As its name suggests, it is a **list** of bipartite graphs.\n",
        "\n",
        "So why does DGL return a list of *bipartite* graphs for training a *homogeneous* graph?  The reason is that the number of nodes for input and that for output of a given GNN layer is different.  Take the example above:\n",
        "\n",
        "![Imgur](https://github.com/dglai/KDD20-Hands-on-Tutorial/blob/master/4-large_graph/assets/6.png?raw=1)\n",
        "\n",
        "That GNN layer will output the representation of three nodes (two green nodes and one red node), but it will require input from 7 nodes (the green nodes and red node, plus 4 yellow nodes).  Only a bipartite graph can describe such computation:\n",
        "\n",
        "![](https://github.com/dglai/KDD20-Hands-on-Tutorial/blob/master/4-large_graph/assets/bipartite.png?raw=1)"
      ]
    },
    {
      "cell_type": "markdown",
      "metadata": {
        "id": "JBuC1V5d67tN"
      },
      "source": [
        "Minibatch training of GNNs usually involves message passing on such bipartite graphs."
      ]
    },
    {
      "cell_type": "code",
      "metadata": {
        "id": "0XsZpzH967tO",
        "colab": {
          "base_uri": "https://localhost:8080/"
        },
        "outputId": "09cbc81b-4acb-4230-ba03-add2ed841b0b"
      },
      "source": [
        "print(bipartites)"
      ],
      "execution_count": null,
      "outputs": [
        {
          "output_type": "stream",
          "name": "stdout",
          "text": [
            "[Block(num_src_nodes=34877, num_dst_nodes=15700, num_edges=50967), Block(num_src_nodes=15700, num_dst_nodes=4547, num_edges=15896), Block(num_src_nodes=4547, num_dst_nodes=1024, num_edges=3667)]\n"
          ]
        }
      ]
    },
    {
      "cell_type": "markdown",
      "metadata": {
        "id": "1_p9NBHu67tP"
      },
      "source": [
        "## Defining Model\n",
        "\n",
        "The model can be written as follows:"
      ]
    },
    {
      "cell_type": "code",
      "metadata": {
        "id": "-HBggWnu67tb"
      },
      "source": [
        "import torch.nn as nn\n",
        "import torch.nn.functional as F\n",
        "import dgl.nn as dglnn\n",
        "\n",
        "class SAGE(nn.Module):\n",
        "    def __init__(self, in_feats, n_hidden, n_classes, n_layers):\n",
        "        super().__init__()\n",
        "        self.n_layers = n_layers\n",
        "        self.n_hidden = n_hidden\n",
        "        self.n_classes = n_classes\n",
        "        self.layers = nn.ModuleList()\n",
        "        self.layers.append(dglnn.SAGEConv(in_feats, n_hidden, 'mean'))\n",
        "        for i in range(1, n_layers - 1):\n",
        "            self.layers.append(dglnn.SAGEConv(n_hidden, n_hidden, 'mean'))\n",
        "        self.layers.append(dglnn.SAGEConv(n_hidden, n_classes, 'mean'))\n",
        "\n",
        "    def forward(self, bipartites, x):\n",
        "        for l, (layer, bipartite) in enumerate(zip(self.layers, bipartites)):\n",
        "            x = layer(bipartite, x)\n",
        "            if l != self.n_layers - 1:\n",
        "                x = F.relu(x)\n",
        "        return x"
      ],
      "execution_count": null,
      "outputs": []
    },
    {
      "cell_type": "markdown",
      "metadata": {
        "id": "dMExIj6K67tc"
      },
      "source": [
        "You can see that here we are iterating over the pairs of NN module layer and bipartite graphs generated by the data loader."
      ]
    },
    {
      "cell_type": "markdown",
      "metadata": {
        "id": "RagCdzKv67te"
      },
      "source": [
        "## Defining Training Loop\n",
        "\n",
        "The following initializes the model and defines the optimizer."
      ]
    },
    {
      "cell_type": "code",
      "metadata": {
        "id": "Dt4jpsZt67te"
      },
      "source": [
        "model = SAGE(num_features, 128, num_classes, 3).cuda()\n",
        "opt = torch.optim.Adam(model.parameters())"
      ],
      "execution_count": null,
      "outputs": []
    },
    {
      "cell_type": "markdown",
      "metadata": {
        "id": "y2zncWAp67tg"
      },
      "source": [
        "When computing the validation score for model selection, usually you can also do neighbor sampling.  To do that, you need to define another data loader."
      ]
    },
    {
      "cell_type": "code",
      "metadata": {
        "id": "-QfOdBNc67tr"
      },
      "source": [
        "valid_dataloader = dgl.dataloading.NodeDataLoader(\n",
        "    graph, valid_nids, sampler,\n",
        "    batch_size=1024,\n",
        "    shuffle=False,\n",
        "    drop_last=False,\n",
        "    num_workers=0\n",
        ")"
      ],
      "execution_count": null,
      "outputs": []
    },
    {
      "cell_type": "markdown",
      "metadata": {
        "id": "WUQaDsqO67ts"
      },
      "source": [
        "The following is a training loop that performs validation every epoch.  It also saves the model with the best validation accuracy into a file."
      ]
    },
    {
      "cell_type": "code",
      "metadata": {
        "id": "pGqpCsK867tt",
        "colab": {
          "base_uri": "https://localhost:8080/"
        },
        "outputId": "f9eacef2-a320-47b1-f4ff-b4590a13411e"
      },
      "source": [
        "import tqdm\n",
        "import sklearn.metrics\n",
        "\n",
        "best_accuracy = 0\n",
        "best_model_path = 'model.pt'\n",
        "# for epoch in range(10):\n",
        "for epoch in range(3):\n",
        "    model.train()\n",
        "\n",
        "    with tqdm.tqdm(train_dataloader) as tq:\n",
        "        for step, (input_nodes, output_nodes, bipartites) in enumerate(tq):\n",
        "            bipartites = [b.to(torch.device('cuda')) for b in bipartites]\n",
        "            inputs = node_features[input_nodes].cuda()\n",
        "            labels = node_labels[output_nodes].cuda()\n",
        "            predictions = model(bipartites, inputs)\n",
        "\n",
        "            loss = F.cross_entropy(predictions, labels)\n",
        "            opt.zero_grad()\n",
        "            loss.backward()\n",
        "            opt.step()\n",
        "\n",
        "            accuracy = sklearn.metrics.accuracy_score(labels.cpu().numpy(), predictions.argmax(1).detach().cpu().numpy())\n",
        "\n",
        "            tq.set_postfix({'loss': '%.03f' % loss.item(), 'acc': '%.03f' % accuracy}, refresh=False)\n",
        "\n",
        "    model.eval()\n",
        "\n",
        "    predictions = []\n",
        "    labels = []\n",
        "    with tqdm.tqdm(valid_dataloader) as tq, torch.no_grad():\n",
        "        for input_nodes, output_nodes, bipartites in tq:\n",
        "            bipartites = [b.to(torch.device('cuda')) for b in bipartites]\n",
        "            inputs = node_features[input_nodes].cuda()\n",
        "            labels.append(node_labels[output_nodes].numpy())\n",
        "            predictions.append(model(bipartites, inputs).argmax(1).cpu().numpy())\n",
        "        predictions = np.concatenate(predictions)\n",
        "        labels = np.concatenate(labels)\n",
        "        accuracy = sklearn.metrics.accuracy_score(labels, predictions)\n",
        "        print('Epoch {} Validation Accuracy {}'.format(epoch, accuracy))\n",
        "        if best_accuracy < accuracy:\n",
        "            best_accuracy = accuracy\n",
        "            torch.save(model.state_dict(), best_model_path)"
      ],
      "execution_count": null,
      "outputs": [
        {
          "output_type": "stream",
          "name": "stderr",
          "text": [
            "100%|██████████| 193/193 [00:20<00:00,  9.44it/s, loss=0.234, acc=1.000]\n",
            "100%|██████████| 39/39 [00:05<00:00,  7.43it/s]\n"
          ]
        },
        {
          "output_type": "stream",
          "name": "stdout",
          "text": [
            "Epoch 0 Validation Accuracy 0.8670243877628868\n"
          ]
        },
        {
          "output_type": "stream",
          "name": "stderr",
          "text": [
            "100%|██████████| 193/193 [00:20<00:00,  9.57it/s, loss=0.421, acc=0.714]\n",
            "100%|██████████| 39/39 [00:05<00:00,  7.37it/s]\n"
          ]
        },
        {
          "output_type": "stream",
          "name": "stdout",
          "text": [
            "Epoch 1 Validation Accuracy 0.8683976298858175\n"
          ]
        },
        {
          "output_type": "stream",
          "name": "stderr",
          "text": [
            "100%|██████████| 193/193 [00:20<00:00,  9.52it/s, loss=0.045, acc=1.000]\n",
            "100%|██████████| 39/39 [00:05<00:00,  7.42it/s]"
          ]
        },
        {
          "output_type": "stream",
          "name": "stdout",
          "text": [
            "Epoch 2 Validation Accuracy 0.8765862218040332\n"
          ]
        },
        {
          "output_type": "stream",
          "name": "stderr",
          "text": [
            "\n"
          ]
        }
      ]
    },
    {
      "cell_type": "markdown",
      "metadata": {
        "id": "2-rk_B1P67tu"
      },
      "source": [
        "## Offline Inference without Neighbor Sampling\n",
        "\n",
        "Usually for offline inference it is desirable to aggregate over the entire neighborhood to eliminate randomness introduced by neighbor sampling.  However, using the same methodology in training is not efficient, because there will be a lot of redundant computation.  Moreover, simply doing neighbor sampling by taking all neighbors will often exhaust GPU memory because the number of nodes required for input features may be too large to fit into GPU memory.\n",
        "\n",
        "Instead, you need to compute the representations layer by layer: you first compute the output of the first GNN layer for all nodes, then you compute the output of second GNN layer for all nodes using the first GNN layer's output as input, etc.  This gives us a different algorithm from what is being used in training.  During training we have an outer loop that iterates over the nodes, and an inner loop that iterates over the layers.  In contrast, during inference we have an outer loop that iterates over the layers, and an inner loop that iterates over the nodes.\n",
        "\n",
        "If you do not care about randomness too much (e.g., during model selection in validation), you can still use the `dgl.dataloading.MultiLayerNeighborSampler` and `dgl.dataloading.NodeDataLoader` to do offline inference, since it is usually faster for evaluating a small number of nodes."
      ]
    },
    {
      "cell_type": "markdown",
      "metadata": {
        "id": "2vGPbmW_67tw"
      },
      "source": [
        "![Imgur](https://github.com/dglai/KDD20-Hands-on-Tutorial/blob/master/4-large_graph/assets/anim.gif?raw=1)"
      ]
    },
    {
      "cell_type": "code",
      "metadata": {
        "id": "HKrABmLr67tw"
      },
      "source": [
        "def inference(model, graph, input_features, batch_size):\n",
        "    nodes = torch.arange(graph.number_of_nodes())\n",
        "\n",
        "    sampler = dgl.dataloading.MultiLayerNeighborSampler([None])  # one layer at a time, taking all neighbors\n",
        "    dataloader = dgl.dataloading.NodeDataLoader(\n",
        "        graph, nodes, sampler,\n",
        "        batch_size=batch_size,\n",
        "        shuffle=False,\n",
        "        drop_last=False,\n",
        "        num_workers=0)\n",
        "\n",
        "    with torch.no_grad():\n",
        "        for l, layer in enumerate(model.layers):\n",
        "            # Allocate a buffer of output representations for every node\n",
        "            # Note that the buffer is on CPU memory.\n",
        "            output_features = torch.zeros(\n",
        "                graph.number_of_nodes(), model.n_hidden if l != model.n_layers - 1 else model.n_classes)\n",
        "\n",
        "            for input_nodes, output_nodes, bipartites in tqdm.tqdm(dataloader):\n",
        "                bipartite = bipartites[0].to(torch.device('cuda'))\n",
        "\n",
        "                x = input_features[input_nodes].cuda()\n",
        "\n",
        "                # the following code is identical to the loop body in model.forward()\n",
        "                x = layer(bipartite, x)\n",
        "                if l != model.n_layers - 1:\n",
        "                    x = F.relu(x)\n",
        "\n",
        "                output_features[output_nodes] = x.cpu()\n",
        "            input_features = output_features\n",
        "    return output_features"
      ],
      "execution_count": null,
      "outputs": []
    },
    {
      "cell_type": "markdown",
      "metadata": {
        "id": "6YPICysI67t8"
      },
      "source": [
        "The following code loads the best model from the file saved previously and performs offline inference.  It computes the accuracy on the test set afterwards."
      ]
    },
    {
      "cell_type": "code",
      "metadata": {
        "id": "ECY-tGYk67t9",
        "colab": {
          "base_uri": "https://localhost:8080/"
        },
        "outputId": "d05089b2-7862-4b74-8911-3f17575e7437"
      },
      "source": [
        "model.load_state_dict(torch.load(best_model_path))\n",
        "all_predictions = inference(model, graph, node_features, 8192)"
      ],
      "execution_count": null,
      "outputs": [
        {
          "output_type": "stream",
          "name": "stderr",
          "text": [
            "100%|██████████| 299/299 [02:13<00:00,  2.24it/s]\n",
            "100%|██████████| 299/299 [00:37<00:00,  7.99it/s]\n",
            "100%|██████████| 299/299 [00:37<00:00,  7.92it/s]\n"
          ]
        }
      ]
    },
    {
      "cell_type": "code",
      "metadata": {
        "id": "wbE6wkds67t-",
        "colab": {
          "base_uri": "https://localhost:8080/"
        },
        "outputId": "e7aca6e5-7b69-4fe8-ebe9-8ed8596ab46f"
      },
      "source": [
        "test_predictions = all_predictions[test_nids].argmax(1)\n",
        "test_labels = node_labels[test_nids]\n",
        "test_accuracy = sklearn.metrics.accuracy_score(test_predictions.numpy(), test_labels.numpy())\n",
        "print('Test accuracy:', test_accuracy)"
      ],
      "execution_count": null,
      "outputs": [
        {
          "output_type": "stream",
          "name": "stdout",
          "text": [
            "Test accuracy: 0.7233028375245302\n"
          ]
        }
      ]
    },
    {
      "cell_type": "markdown",
      "metadata": {
        "id": "v8kVrkAW67t_"
      },
      "source": [
        "## Conclusion\n",
        "\n",
        "In this tutorial, you have learned how to train a multi-layer GraphSAGE with neighbor sampling on a large dataset that cannot fit into GPU.  The method you have learned can scale to a graph of any size, and works on a single machine with a single GPU.\n",
        "\n",
        "## What's next?\n",
        "\n",
        "The next tutorial will be about training the same GraphSAGE model in an unsupervised manner with link prediction, i.e. predicting whether an edge exist between two nodes."
      ]
    }
  ]
}