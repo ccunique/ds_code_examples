{
  "nbformat": 4,
  "nbformat_minor": 0,
  "metadata": {
    "colab": {
      "provenance": [],
      "toc_visible": true,
      "authorship_tag": "ABX9TyMR9iwh5z95G/eilrxqKMsu",
      "include_colab_link": true
    },
    "kernelspec": {
      "name": "python3",
      "display_name": "Python 3"
    },
    "language_info": {
      "name": "python"
    }
  },
  "cells": [
    {
      "cell_type": "markdown",
      "metadata": {
        "id": "view-in-github",
        "colab_type": "text"
      },
      "source": [
        "<a href=\"https://colab.research.google.com/github/ccunique/ds_code_examples/blob/main/Graph/GNN/DGL/hetergraph.ipynb\" target=\"_parent\"><img src=\"https://colab.research.google.com/assets/colab-badge.svg\" alt=\"Open In Colab\"/></a>"
      ]
    },
    {
      "cell_type": "code",
      "execution_count": null,
      "metadata": {
        "id": "9p7hO1K_ZI5G",
        "colab": {
          "base_uri": "https://localhost:8080/"
        },
        "outputId": "7f0e3916-2ae1-4088-e4c2-340dd68a0414"
      },
      "outputs": [
        {
          "output_type": "stream",
          "name": "stdout",
          "text": [
            "Collecting torch==1.13.1\n",
            "  Downloading torch-1.13.1-cp310-cp310-manylinux1_x86_64.whl (887.5 MB)\n",
            "\u001b[2K     \u001b[90m━━━━━━━━━━━━━━━━━━━━━━━━━━━━━━━━━━━━━━━\u001b[0m \u001b[32m887.5/887.5 MB\u001b[0m \u001b[31m1.1 MB/s\u001b[0m eta \u001b[36m0:00:00\u001b[0m\n",
            "\u001b[?25hRequirement already satisfied: typing-extensions in /usr/local/lib/python3.10/dist-packages (from torch==1.13.1) (4.6.3)\n",
            "Collecting nvidia-cuda-runtime-cu11==11.7.99 (from torch==1.13.1)\n",
            "  Downloading nvidia_cuda_runtime_cu11-11.7.99-py3-none-manylinux1_x86_64.whl (849 kB)\n",
            "\u001b[2K     \u001b[90m━━━━━━━━━━━━━━━━━━━━━━━━━━━━━━━━━━━━━━\u001b[0m \u001b[32m849.3/849.3 kB\u001b[0m \u001b[31m54.6 MB/s\u001b[0m eta \u001b[36m0:00:00\u001b[0m\n",
            "\u001b[?25hCollecting nvidia-cudnn-cu11==8.5.0.96 (from torch==1.13.1)\n",
            "  Downloading nvidia_cudnn_cu11-8.5.0.96-2-py3-none-manylinux1_x86_64.whl (557.1 MB)\n",
            "\u001b[2K     \u001b[90m━━━━━━━━━━━━━━━━━━━━━━━━━━━━━━━━━━━━━━━\u001b[0m \u001b[32m557.1/557.1 MB\u001b[0m \u001b[31m2.3 MB/s\u001b[0m eta \u001b[36m0:00:00\u001b[0m\n",
            "\u001b[?25hCollecting nvidia-cublas-cu11==11.10.3.66 (from torch==1.13.1)\n",
            "  Downloading nvidia_cublas_cu11-11.10.3.66-py3-none-manylinux1_x86_64.whl (317.1 MB)\n",
            "\u001b[2K     \u001b[90m━━━━━━━━━━━━━━━━━━━━━━━━━━━━━━━━━━━━━━━\u001b[0m \u001b[32m317.1/317.1 MB\u001b[0m \u001b[31m4.7 MB/s\u001b[0m eta \u001b[36m0:00:00\u001b[0m\n",
            "\u001b[?25hCollecting nvidia-cuda-nvrtc-cu11==11.7.99 (from torch==1.13.1)\n",
            "  Downloading nvidia_cuda_nvrtc_cu11-11.7.99-2-py3-none-manylinux1_x86_64.whl (21.0 MB)\n",
            "\u001b[2K     \u001b[90m━━━━━━━━━━━━━━━━━━━━━━━━━━━━━━━━━━━━━━━━\u001b[0m \u001b[32m21.0/21.0 MB\u001b[0m \u001b[31m53.3 MB/s\u001b[0m eta \u001b[36m0:00:00\u001b[0m\n",
            "\u001b[?25hRequirement already satisfied: setuptools in /usr/local/lib/python3.10/dist-packages (from nvidia-cublas-cu11==11.10.3.66->torch==1.13.1) (67.7.2)\n",
            "Requirement already satisfied: wheel in /usr/local/lib/python3.10/dist-packages (from nvidia-cublas-cu11==11.10.3.66->torch==1.13.1) (0.40.0)\n",
            "Installing collected packages: nvidia-cuda-runtime-cu11, nvidia-cuda-nvrtc-cu11, nvidia-cublas-cu11, nvidia-cudnn-cu11, torch\n",
            "  Attempting uninstall: torch\n",
            "    Found existing installation: torch 2.0.1+cu118\n",
            "    Uninstalling torch-2.0.1+cu118:\n",
            "      Successfully uninstalled torch-2.0.1+cu118\n",
            "\u001b[31mERROR: pip's dependency resolver does not currently take into account all the packages that are installed. This behaviour is the source of the following dependency conflicts.\n",
            "torchaudio 2.0.2+cu118 requires torch==2.0.1, but you have torch 1.13.1 which is incompatible.\n",
            "torchdata 0.6.1 requires torch==2.0.1, but you have torch 1.13.1 which is incompatible.\n",
            "torchtext 0.15.2 requires torch==2.0.1, but you have torch 1.13.1 which is incompatible.\n",
            "torchvision 0.15.2+cu118 requires torch==2.0.1, but you have torch 1.13.1 which is incompatible.\u001b[0m\u001b[31m\n",
            "\u001b[0mSuccessfully installed nvidia-cublas-cu11-11.10.3.66 nvidia-cuda-nvrtc-cu11-11.7.99 nvidia-cuda-runtime-cu11-11.7.99 nvidia-cudnn-cu11-8.5.0.96 torch-1.13.1\n"
          ]
        }
      ],
      "source": [
        "!pip install torch==1.13.1\n",
        "!pip install  dgl==1.1.0 -f https://data.dgl.ai/wheels/repo.html > /dev/null"
      ]
    },
    {
      "cell_type": "markdown",
      "source": [
        "# heter graph"
      ],
      "metadata": {
        "id": "mRqzqhTxVvu2"
      }
    },
    {
      "cell_type": "code",
      "source": [
        "import numpy as np\n",
        "import torch\n",
        "import dgl\n",
        "\n",
        "n_users = 1000\n",
        "n_items = 500\n",
        "n_follows = 3000\n",
        "n_clicks = 5000\n",
        "n_dislikes = 500\n",
        "n_hetero_features = 10\n",
        "n_user_classes = 5\n",
        "n_max_clicks = 10\n",
        "\n",
        "follow_src = np.random.randint(0, n_users, n_follows)\n",
        "follow_dst = np.random.randint(0, n_users, n_follows)\n",
        "click_src = np.random.randint(0, n_users, n_clicks)\n",
        "click_dst = np.random.randint(0, n_items, n_clicks)\n",
        "dislike_src = np.random.randint(0, n_users, n_dislikes)\n",
        "dislike_dst = np.random.randint(0, n_items, n_dislikes)\n",
        "\n",
        "hetero_graph = dgl.heterograph({\n",
        "    ('user', 'follow', 'user'): (follow_src, follow_dst),\n",
        "    ('user', 'followed-by', 'user'): (follow_dst, follow_src),\n",
        "    ('user', 'click', 'item'): (click_src, click_dst),\n",
        "    ('item', 'clicked-by', 'user'): (click_dst, click_src),\n",
        "    ('user', 'dislike', 'item'): (dislike_src, dislike_dst),\n",
        "    ('item', 'disliked-by', 'user'): (dislike_dst, dislike_src)})\n",
        "\n",
        "hetero_graph.nodes['user'].data['feature'] = torch.randn(n_users, n_hetero_features)\n",
        "hetero_graph.nodes['item'].data['feature'] = torch.randn(n_items, n_hetero_features)\n",
        "hetero_graph.nodes['user'].data['label'] = torch.randint(0, n_user_classes, (n_users,))\n",
        "hetero_graph.edges['click'].data['label'] = torch.randint(1, n_max_clicks, (n_clicks,)).float()\n",
        "# 在user类型的节点和click类型的边上随机生成训练集的掩码\n",
        "hetero_graph.nodes['user'].data['train_mask'] = torch.zeros(n_users, dtype=torch.bool).bernoulli(0.6)\n",
        "hetero_graph.edges['click'].data['train_mask'] = torch.zeros(n_clicks, dtype=torch.bool).bernoulli(0.6)"
      ],
      "metadata": {
        "colab": {
          "base_uri": "https://localhost:8080/"
        },
        "id": "CfUI716SVuaK",
        "outputId": "a035d748-0303-4541-ed8d-c0741160861a"
      },
      "execution_count": null,
      "outputs": [
        {
          "output_type": "stream",
          "name": "stderr",
          "text": [
            "DGL backend not selected or invalid.  Assuming PyTorch for now.\n"
          ]
        },
        {
          "output_type": "stream",
          "name": "stdout",
          "text": [
            "Setting the default backend to \"pytorch\". You can change it in the ~/.dgl/config.json file or export the DGLBACKEND environment variable.  Valid options are: pytorch, mxnet, tensorflow (all lowercase)\n"
          ]
        }
      ]
    },
    {
      "cell_type": "markdown",
      "source": [
        "# 1 layer sampling"
      ],
      "metadata": {
        "id": "DBcOoapQmL2X"
      }
    },
    {
      "cell_type": "code",
      "source": [
        "# 每种关系每一层采样数量\n",
        "sampler = dgl.dataloading.NeighborSampler([\n",
        "    {('user', 'follow', 'user'):3,\n",
        "    ('user', 'followed-by', 'user'):3,\n",
        "    ('user', 'click', 'item'):3,\n",
        "    ('item', 'clicked-by', 'user'):3,\n",
        "    ('user', 'dislike', 'item'):3,\n",
        "    ('item', 'disliked-by', 'user'):3}])\n",
        "\n",
        "train_nid = hetero_graph.nodes('user')[hetero_graph.nodes['user'].data['train_mask']]\n",
        "\n",
        "# 指定 node type 对应的 node id\n",
        "dataloader = dgl.dataloading.DataLoader(\n",
        "    hetero_graph, {'user':[4]}, sampler,\n",
        "    batch_size=4, shuffle=True, drop_last=False)"
      ],
      "metadata": {
        "id": "aa6AKMfZmLpD"
      },
      "execution_count": null,
      "outputs": []
    },
    {
      "cell_type": "code",
      "source": [
        "dl = iter(dataloader)"
      ],
      "metadata": {
        "id": "8mEpdcHTmLiG"
      },
      "execution_count": null,
      "outputs": []
    },
    {
      "cell_type": "code",
      "source": [
        "next(dl)"
      ],
      "metadata": {
        "colab": {
          "base_uri": "https://localhost:8080/"
        },
        "id": "_ZW0vkxXmv34",
        "outputId": "08e3e721-d6be-48a1-973c-8e6287610cb0"
      },
      "execution_count": null,
      "outputs": [
        {
          "output_type": "execute_result",
          "data": {
            "text/plain": [
              "[{'item': tensor([279, 116, 227, 191,  56]),\n",
              "  'user': tensor([  4, 416, 601, 238])},\n",
              " {'user': tensor([4])},\n",
              " [Block(num_src_nodes={'item': 5, 'user': 4},\n",
              "        num_dst_nodes={'item': 0, 'user': 1},\n",
              "        num_edges={('item', 'clicked-by', 'user'): 3, ('item', 'disliked-by', 'user'): 2, ('user', 'click', 'item'): 0, ('user', 'dislike', 'item'): 0, ('user', 'follow', 'user'): 3, ('user', 'followed-by', 'user'): 0},\n",
              "        metagraph=[('item', 'user', 'clicked-by'), ('item', 'user', 'disliked-by'), ('user', 'item', 'click'), ('user', 'item', 'dislike'), ('user', 'user', 'follow'), ('user', 'user', 'followed-by')])]]"
            ]
          },
          "metadata": {},
          "execution_count": 17
        }
      ]
    },
    {
      "cell_type": "code",
      "source": [],
      "metadata": {
        "id": "SBa3d2fYmvxH"
      },
      "execution_count": null,
      "outputs": []
    },
    {
      "cell_type": "markdown",
      "source": [
        "## 2 layer sampling"
      ],
      "metadata": {
        "id": "yBV5gFAEmGSb"
      }
    },
    {
      "cell_type": "code",
      "source": [
        "# 每种关系每一层采样数量\n",
        "sampler = dgl.dataloading.NeighborSampler([\n",
        "    {('user', 'follow', 'user'):5,\n",
        "    ('user', 'followed-by', 'user'):5,\n",
        "    ('user', 'click', 'item'):3,\n",
        "    ('item', 'clicked-by', 'user'):3,\n",
        "    ('user', 'dislike', 'item'):2,\n",
        "    ('item', 'disliked-by', 'user'):2}] * 2)\n",
        "\n",
        "train_nid = hetero_graph.nodes('user')[hetero_graph.nodes['user'].data['train_mask']]\n",
        "\n",
        "# 指定 node tyoe 对应的 node id\n",
        "dataloader = dgl.dataloading.DataLoader(\n",
        "    hetero_graph, {'user':train_nid}, sampler,\n",
        "    batch_size=4, shuffle=True, drop_last=False)\n"
      ],
      "metadata": {
        "id": "BG1keHiSV3cn"
      },
      "execution_count": null,
      "outputs": []
    },
    {
      "cell_type": "code",
      "source": [
        "dl = iter(dataloader)"
      ],
      "metadata": {
        "colab": {
          "base_uri": "https://localhost:8080/"
        },
        "id": "LTqaz837WD9s",
        "outputId": "9c824caa-d625-4e14-aa9e-7bfdc01fead3"
      },
      "execution_count": null,
      "outputs": [
        {
          "output_type": "stream",
          "name": "stderr",
          "text": [
            "/usr/local/lib/python3.10/dist-packages/dgl/dataloading/dataloader.py:1043: DGLWarning: Dataloader CPU affinity opt is not enabled, consider switching it on (see enable_cpu_affinity() or CPU best practices for DGL [https://docs.dgl.ai/tutorials/cpu/cpu_best_practises.html])\n",
            "  dgl_warning(\n"
          ]
        }
      ]
    },
    {
      "cell_type": "code",
      "source": [
        "next(dl)"
      ],
      "metadata": {
        "colab": {
          "base_uri": "https://localhost:8080/"
        },
        "id": "TZGrIwiWWHu2",
        "outputId": "509160a1-62ff-4ed6-8e55-602851de3711"
      },
      "execution_count": null,
      "outputs": [
        {
          "output_type": "execute_result",
          "data": {
            "text/plain": [
              "[{'item': tensor([149, 264, 259, 123, 490, 146, 342, 475, 393, 325, 249, 112, 118, 291,\n",
              "          474, 120, 320, 385, 431,  94, 267, 482,  51, 467, 253,  97, 383, 139,\n",
              "          292,  70, 310, 147, 162, 138, 281, 132, 495,  18, 331, 151, 465, 408,\n",
              "          378,   4,  78, 478, 428, 364,   8,  47,  43, 416,  46, 141, 497, 439,\n",
              "           23, 471, 311, 494,   3, 223, 318,  11,  26, 196,  39, 306, 248, 317,\n",
              "          337, 491, 410, 327, 233, 485, 391, 201, 361, 133, 250, 168,  82,  89,\n",
              "          422,  71, 345,  15, 388, 411, 199, 219,  50, 434]),\n",
              "  'user': tensor([482, 864, 414, 188, 588, 685, 334, 922, 223, 389, 939, 312, 147, 762,\n",
              "          406, 848, 236, 942, 626,  98, 263, 597, 774,  95, 265, 292, 786, 779,\n",
              "          131, 485, 700, 895, 956, 432, 808, 665, 258, 945, 643, 456, 627, 697,\n",
              "          514, 872, 809, 370, 139, 805, 785, 149, 315, 371, 388, 691, 888, 326,\n",
              "          581, 880, 468, 517, 511, 797, 569, 343, 882, 598, 559, 552,  27, 400,\n",
              "          577, 481, 428, 535, 711, 393, 943, 648, 483, 674, 185, 926, 224, 686,\n",
              "          871, 589, 293, 443, 794, 372, 273, 440, 479, 768, 452, 434, 230, 498,\n",
              "          896, 690, 513, 632,  78, 267, 125, 148, 935, 466, 557, 645,  32, 233,\n",
              "          592,  81, 708,  82, 918, 248, 678,  64, 853, 284,  52, 636, 618, 195,\n",
              "          621, 747, 702, 181, 858, 374, 850, 278,  12, 870,  79, 863, 875, 435,\n",
              "          473, 692, 731, 186, 710, 361,  96, 297, 461, 433, 126, 349, 712, 431,\n",
              "          807,  13, 146, 873, 723, 839, 464,  93, 917, 123,  50, 854,  73,  43,\n",
              "          701, 825, 122, 128, 229, 591, 983, 250, 253, 167, 217, 984, 833, 424,\n",
              "           35, 308, 722, 720, 613, 612, 746,  69, 365, 382, 527, 212, 533, 841,\n",
              "           89, 729, 427, 962,  20, 457, 480, 152, 218, 362,  62, 972,   0, 940,\n",
              "          947, 687,  71, 171, 422, 652, 510, 756, 329, 881, 887, 986, 530])},\n",
              " {'user': tensor([482, 864, 414, 188])},\n",
              " [Block(num_src_nodes={'item': 94, 'user': 223},\n",
              "        num_dst_nodes={'item': 14, 'user': 30},\n",
              "        num_edges={('item', 'clicked-by', 'user'): 85, ('item', 'disliked-by', 'user'): 14, ('user', 'click', 'item'): 42, ('user', 'dislike', 'item'): 14, ('user', 'follow', 'user'): 103, ('user', 'followed-by', 'user'): 105},\n",
              "        metagraph=[('item', 'user', 'clicked-by'), ('item', 'user', 'disliked-by'), ('user', 'item', 'click'), ('user', 'item', 'dislike'), ('user', 'user', 'follow'), ('user', 'user', 'followed-by')]),\n",
              "  Block(num_src_nodes={'item': 14, 'user': 30},\n",
              "        num_dst_nodes={'item': 0, 'user': 4},\n",
              "        num_edges={('item', 'clicked-by', 'user'): 12, ('item', 'disliked-by', 'user'): 2, ('user', 'click', 'item'): 0, ('user', 'dislike', 'item'): 0, ('user', 'follow', 'user'): 14, ('user', 'followed-by', 'user'): 12},\n",
              "        metagraph=[('item', 'user', 'clicked-by'), ('item', 'user', 'disliked-by'), ('user', 'item', 'click'), ('user', 'item', 'dislike'), ('user', 'user', 'follow'), ('user', 'user', 'followed-by')])]]"
            ]
          },
          "metadata": {},
          "execution_count": 5
        }
      ]
    },
    {
      "cell_type": "code",
      "source": [],
      "metadata": {
        "id": "J_DXFtzQl6YJ"
      },
      "execution_count": null,
      "outputs": []
    }
  ]
}