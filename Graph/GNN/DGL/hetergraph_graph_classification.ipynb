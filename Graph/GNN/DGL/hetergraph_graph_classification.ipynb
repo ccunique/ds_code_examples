{
  "cells": [
    {
      "cell_type": "markdown",
      "metadata": {
        "id": "view-in-github",
        "colab_type": "text"
      },
      "source": [
        "<a href=\"https://colab.research.google.com/github/ccunique/ds_code_examples/blob/main/Graph/GNN/DGL/hetergraph_graph_classification.ipynb\" target=\"_parent\"><img src=\"https://colab.research.google.com/assets/colab-badge.svg\" alt=\"Open In Colab\"/></a>"
      ]
    },
    {
      "cell_type": "code",
      "source": [
        "!nvidia-smi"
      ],
      "metadata": {
        "colab": {
          "base_uri": "https://localhost:8080/"
        },
        "id": "HbEl1zRipeLc",
        "outputId": "b56be6f8-d86e-41b7-d9a7-e2a0b49d1f58"
      },
      "execution_count": 1,
      "outputs": [
        {
          "output_type": "stream",
          "name": "stdout",
          "text": [
            "Wed Oct 25 08:16:59 2023       \n",
            "+-----------------------------------------------------------------------------+\n",
            "| NVIDIA-SMI 525.105.17   Driver Version: 525.105.17   CUDA Version: 12.0     |\n",
            "|-------------------------------+----------------------+----------------------+\n",
            "| GPU  Name        Persistence-M| Bus-Id        Disp.A | Volatile Uncorr. ECC |\n",
            "| Fan  Temp  Perf  Pwr:Usage/Cap|         Memory-Usage | GPU-Util  Compute M. |\n",
            "|                               |                      |               MIG M. |\n",
            "|===============================+======================+======================|\n",
            "|   0  Tesla T4            Off  | 00000000:00:04.0 Off |                    0 |\n",
            "| N/A   44C    P8    10W /  70W |      0MiB / 15360MiB |      0%      Default |\n",
            "|                               |                      |                  N/A |\n",
            "+-------------------------------+----------------------+----------------------+\n",
            "                                                                               \n",
            "+-----------------------------------------------------------------------------+\n",
            "| Processes:                                                                  |\n",
            "|  GPU   GI   CI        PID   Type   Process name                  GPU Memory |\n",
            "|        ID   ID                                                   Usage      |\n",
            "|=============================================================================|\n",
            "|  No running processes found                                                 |\n",
            "+-----------------------------------------------------------------------------+\n"
          ]
        }
      ]
    },
    {
      "cell_type": "code",
      "source": [
        "!pip install  dgl -f https://data.dgl.ai/wheels/cu118/repo.html"
      ],
      "metadata": {
        "colab": {
          "base_uri": "https://localhost:8080/"
        },
        "id": "O9CFl8FlpOop",
        "outputId": "b8fc5040-adde-43fb-bc5e-b757cba29c61"
      },
      "execution_count": 2,
      "outputs": [
        {
          "output_type": "stream",
          "name": "stdout",
          "text": [
            "Looking in links: https://data.dgl.ai/wheels/cu118/repo.html\n",
            "Collecting dgl\n",
            "  Downloading https://data.dgl.ai/wheels/cu118/dgl-1.1.2%2Bcu118-cp310-cp310-manylinux1_x86_64.whl (91.3 MB)\n",
            "\u001b[2K     \u001b[90m━━━━━━━━━━━━━━━━━━━━━━━━━━━━━━━━━━━━━━━━\u001b[0m \u001b[32m91.3/91.3 MB\u001b[0m \u001b[31m8.1 MB/s\u001b[0m eta \u001b[36m0:00:00\u001b[0m\n",
            "\u001b[?25hRequirement already satisfied: numpy>=1.14.0 in /usr/local/lib/python3.10/dist-packages (from dgl) (1.23.5)\n",
            "Requirement already satisfied: scipy>=1.1.0 in /usr/local/lib/python3.10/dist-packages (from dgl) (1.11.3)\n",
            "Requirement already satisfied: networkx>=2.1 in /usr/local/lib/python3.10/dist-packages (from dgl) (3.2)\n",
            "Requirement already satisfied: requests>=2.19.0 in /usr/local/lib/python3.10/dist-packages (from dgl) (2.31.0)\n",
            "Requirement already satisfied: tqdm in /usr/local/lib/python3.10/dist-packages (from dgl) (4.66.1)\n",
            "Requirement already satisfied: psutil>=5.8.0 in /usr/local/lib/python3.10/dist-packages (from dgl) (5.9.5)\n",
            "Requirement already satisfied: charset-normalizer<4,>=2 in /usr/local/lib/python3.10/dist-packages (from requests>=2.19.0->dgl) (3.3.0)\n",
            "Requirement already satisfied: idna<4,>=2.5 in /usr/local/lib/python3.10/dist-packages (from requests>=2.19.0->dgl) (3.4)\n",
            "Requirement already satisfied: urllib3<3,>=1.21.1 in /usr/local/lib/python3.10/dist-packages (from requests>=2.19.0->dgl) (2.0.7)\n",
            "Requirement already satisfied: certifi>=2017.4.17 in /usr/local/lib/python3.10/dist-packages (from requests>=2.19.0->dgl) (2023.7.22)\n",
            "Installing collected packages: dgl\n",
            "Successfully installed dgl-1.1.2+cu118\n"
          ]
        }
      ]
    },
    {
      "cell_type": "code",
      "execution_count": 5,
      "metadata": {
        "id": "lIYdn1woOS1n"
      },
      "outputs": [],
      "source": [
        "import torch\n",
        "import torch as th\n",
        "import dgl"
      ]
    },
    {
      "cell_type": "code",
      "source": [
        "torch.__version__, dgl.__version__"
      ],
      "metadata": {
        "colab": {
          "base_uri": "https://localhost:8080/"
        },
        "id": "p7bal2lepNW3",
        "outputId": "02eb36e9-08a5-4ef7-a168-403510e84c45"
      },
      "execution_count": 6,
      "outputs": [
        {
          "output_type": "execute_result",
          "data": {
            "text/plain": [
              "('2.1.0+cu118', '1.1.2+cu118')"
            ]
          },
          "metadata": {},
          "execution_count": 6
        }
      ]
    },
    {
      "cell_type": "markdown",
      "source": [
        "# test batch hetergraph"
      ],
      "metadata": {
        "id": "lsctvmyBq2BS"
      }
    },
    {
      "cell_type": "code",
      "source": [
        "hg1 = dgl.heterograph({\n",
        "    ('user', 'plays', 'game') : (th.tensor([0, 1]), th.tensor([0, 0]))})\n",
        "\n",
        "hg2 = dgl.heterograph({\n",
        "    ('user', 'plays', 'game') : (th.tensor([0, 0, 0]), th.tensor([1, 0, 2]))})\n",
        "\n",
        "hg3 = dgl.heterograph({\n",
        "    ('user', 'follows', 'user') : (th.tensor([0]), th.tensor([1]))})"
      ],
      "metadata": {
        "id": "tiz5jkB1pn5M"
      },
      "execution_count": 7,
      "outputs": []
    },
    {
      "cell_type": "code",
      "source": [
        "hg1"
      ],
      "metadata": {
        "colab": {
          "base_uri": "https://localhost:8080/"
        },
        "id": "7Yqaq_RXptQY",
        "outputId": "1797f973-240c-4ffa-c766-190fb7763e35"
      },
      "execution_count": 8,
      "outputs": [
        {
          "output_type": "execute_result",
          "data": {
            "text/plain": [
              "Graph(num_nodes={'game': 1, 'user': 2},\n",
              "      num_edges={('user', 'plays', 'game'): 2},\n",
              "      metagraph=[('user', 'game', 'plays')])"
            ]
          },
          "metadata": {},
          "execution_count": 8
        }
      ]
    },
    {
      "cell_type": "code",
      "source": [
        "hg2"
      ],
      "metadata": {
        "colab": {
          "base_uri": "https://localhost:8080/"
        },
        "id": "ImoRjOO4p9kZ",
        "outputId": "dccd833b-84d9-4e2a-8ca9-2262cdc8c010"
      },
      "execution_count": 9,
      "outputs": [
        {
          "output_type": "execute_result",
          "data": {
            "text/plain": [
              "Graph(num_nodes={'game': 3, 'user': 1},\n",
              "      num_edges={('user', 'plays', 'game'): 3},\n",
              "      metagraph=[('user', 'game', 'plays')])"
            ]
          },
          "metadata": {},
          "execution_count": 9
        }
      ]
    },
    {
      "cell_type": "code",
      "source": [
        "hg3"
      ],
      "metadata": {
        "colab": {
          "base_uri": "https://localhost:8080/"
        },
        "id": "DsVAscC_rMcn",
        "outputId": "bba5811c-03da-4f77-9e76-ad12a520c5c8"
      },
      "execution_count": 10,
      "outputs": [
        {
          "output_type": "execute_result",
          "data": {
            "text/plain": [
              "Graph(num_nodes=2, num_edges=1,\n",
              "      ndata_schemes={}\n",
              "      edata_schemes={})"
            ]
          },
          "metadata": {},
          "execution_count": 10
        }
      ]
    },
    {
      "cell_type": "code",
      "source": [
        "bhg12 = dgl.batch([hg1, hg2])\n",
        "bhg12"
      ],
      "metadata": {
        "colab": {
          "base_uri": "https://localhost:8080/"
        },
        "id": "cLqJNd0dqNOt",
        "outputId": "2865c156-6f84-47d2-c51d-01e901cc0fc3"
      },
      "execution_count": 11,
      "outputs": [
        {
          "output_type": "execute_result",
          "data": {
            "text/plain": [
              "Graph(num_nodes={'game': 4, 'user': 3},\n",
              "      num_edges={('user', 'plays', 'game'): 5},\n",
              "      metagraph=[('user', 'game', 'plays')])"
            ]
          },
          "metadata": {},
          "execution_count": 11
        }
      ]
    },
    {
      "cell_type": "code",
      "source": [
        "# can't batch different schema graph\n",
        "bhg13 = dgl.batch([hg1, hg3])\n",
        "bhg13"
      ],
      "metadata": {
        "colab": {
          "base_uri": "https://localhost:8080/",
          "height": 669
        },
        "id": "pFhaB4AgqPCG",
        "outputId": "137a8aad-e014-4c12-be4a-7fe564f3376a"
      },
      "execution_count": 12,
      "outputs": [
        {
          "output_type": "error",
          "ename": "DGLError",
          "evalue": "ignored",
          "traceback": [
            "\u001b[0;31m---------------------------------------------------------------------------\u001b[0m",
            "\u001b[0;31mDGLError\u001b[0m                                  Traceback (most recent call last)",
            "\u001b[0;32m<ipython-input-12-be13ca11872b>\u001b[0m in \u001b[0;36m<cell line: 2>\u001b[0;34m()\u001b[0m\n\u001b[1;32m      1\u001b[0m \u001b[0;31m# can't batch different schema graph\u001b[0m\u001b[0;34m\u001b[0m\u001b[0;34m\u001b[0m\u001b[0m\n\u001b[0;32m----> 2\u001b[0;31m \u001b[0mbhg13\u001b[0m \u001b[0;34m=\u001b[0m \u001b[0mdgl\u001b[0m\u001b[0;34m.\u001b[0m\u001b[0mbatch\u001b[0m\u001b[0;34m(\u001b[0m\u001b[0;34m[\u001b[0m\u001b[0mhg1\u001b[0m\u001b[0;34m,\u001b[0m \u001b[0mhg3\u001b[0m\u001b[0;34m]\u001b[0m\u001b[0;34m)\u001b[0m\u001b[0;34m\u001b[0m\u001b[0;34m\u001b[0m\u001b[0m\n\u001b[0m\u001b[1;32m      3\u001b[0m \u001b[0mbhg13\u001b[0m\u001b[0;34m\u001b[0m\u001b[0;34m\u001b[0m\u001b[0m\n",
            "\u001b[0;32m/usr/local/lib/python3.10/dist-packages/dgl/batch.py\u001b[0m in \u001b[0;36mbatch\u001b[0;34m(graphs, ndata, edata)\u001b[0m\n\u001b[1;32m    171\u001b[0m     \u001b[0metypes\u001b[0m \u001b[0;34m=\u001b[0m \u001b[0;34m[\u001b[0m\u001b[0metype\u001b[0m \u001b[0;32mfor\u001b[0m \u001b[0m_\u001b[0m\u001b[0;34m,\u001b[0m \u001b[0metype\u001b[0m\u001b[0;34m,\u001b[0m \u001b[0m_\u001b[0m \u001b[0;32min\u001b[0m \u001b[0mrelations\u001b[0m\u001b[0;34m]\u001b[0m\u001b[0;34m\u001b[0m\u001b[0;34m\u001b[0m\u001b[0m\n\u001b[1;32m    172\u001b[0m \u001b[0;34m\u001b[0m\u001b[0m\n\u001b[0;32m--> 173\u001b[0;31m     gidx = disjoint_union(\n\u001b[0m\u001b[1;32m    174\u001b[0m         \u001b[0mgraphs\u001b[0m\u001b[0;34m[\u001b[0m\u001b[0;36m0\u001b[0m\u001b[0;34m]\u001b[0m\u001b[0;34m.\u001b[0m\u001b[0m_graph\u001b[0m\u001b[0;34m.\u001b[0m\u001b[0mmetagraph\u001b[0m\u001b[0;34m,\u001b[0m \u001b[0;34m[\u001b[0m\u001b[0mg\u001b[0m\u001b[0;34m.\u001b[0m\u001b[0m_graph\u001b[0m \u001b[0;32mfor\u001b[0m \u001b[0mg\u001b[0m \u001b[0;32min\u001b[0m \u001b[0mgraphs\u001b[0m\u001b[0;34m]\u001b[0m\u001b[0;34m\u001b[0m\u001b[0;34m\u001b[0m\u001b[0m\n\u001b[1;32m    175\u001b[0m     )\n",
            "\u001b[0;32m/usr/local/lib/python3.10/dist-packages/dgl/heterograph_index.py\u001b[0m in \u001b[0;36mdisjoint_union\u001b[0;34m(metagraph, graphs)\u001b[0m\n\u001b[1;32m   1430\u001b[0m         \u001b[0mBatched\u001b[0m \u001b[0mHeterograph\u001b[0m\u001b[0;34m.\u001b[0m\u001b[0;34m\u001b[0m\u001b[0;34m\u001b[0m\u001b[0m\n\u001b[1;32m   1431\u001b[0m     \"\"\"\n\u001b[0;32m-> 1432\u001b[0;31m     \u001b[0;32mreturn\u001b[0m \u001b[0m_CAPI_DGLHeteroDisjointUnion_v2\u001b[0m\u001b[0;34m(\u001b[0m\u001b[0mmetagraph\u001b[0m\u001b[0;34m,\u001b[0m \u001b[0mgraphs\u001b[0m\u001b[0;34m)\u001b[0m\u001b[0;34m\u001b[0m\u001b[0;34m\u001b[0m\u001b[0m\n\u001b[0m\u001b[1;32m   1433\u001b[0m \u001b[0;34m\u001b[0m\u001b[0m\n\u001b[1;32m   1434\u001b[0m \u001b[0;34m\u001b[0m\u001b[0m\n",
            "\u001b[0;32mdgl/_ffi/_cython/./function.pxi\u001b[0m in \u001b[0;36mdgl._ffi._cy3.core.FunctionBase.__call__\u001b[0;34m()\u001b[0m\n",
            "\u001b[0;32mdgl/_ffi/_cython/./function.pxi\u001b[0m in \u001b[0;36mdgl._ffi._cy3.core.FuncCall\u001b[0;34m()\u001b[0m\n",
            "\u001b[0;32mdgl/_ffi/_cython/./function.pxi\u001b[0m in \u001b[0;36mdgl._ffi._cy3.core.FuncCall3\u001b[0;34m()\u001b[0m\n",
            "\u001b[0;31mDGLError\u001b[0m: [08:18:08] /opt/dgl/src/graph/./heterograph.h:67: Check failed: meta_graph_->HasVertex(vtype): Invalid vertex type: 1\nStack trace:\n  [bt] (0) /usr/local/lib/python3.10/dist-packages/dgl/libdgl.so(+0x76c8da) [0x7efad376c8da]\n  [bt] (1) /usr/local/lib/python3.10/dist-packages/dgl/libdgl.so(dgl::HeteroGraph::NumVertices(unsigned long) const+0xbb) [0x7efad37776cb]\n  [bt] (2) /usr/local/lib/python3.10/dist-packages/dgl/libdgl.so(dgl::DisjointUnionHeteroGraph2(std::shared_ptr<dgl::GraphInterface>, std::vector<std::shared_ptr<dgl::BaseHeteroGraph>, std::allocator<std::shared_ptr<dgl::BaseHeteroGraph> > > const&)+0x197) [0x7efad3860cf7]\n  [bt] (3) /usr/local/lib/python3.10/dist-packages/dgl/libdgl.so(+0x78926e) [0x7efad378926e]\n  [bt] (4) /usr/local/lib/python3.10/dist-packages/dgl/libdgl.so(+0x789414) [0x7efad3789414]\n  [bt] (5) /usr/local/lib/python3.10/dist-packages/dgl/libdgl.so(DGLFuncCall+0x48) [0x7efad370e3f8]\n  [bt] (6) /usr/local/lib/python3.10/dist-packages/dgl/_ffi/_cy3/core.cpython-310-x86_64-linux-gnu.so(+0x15413) [0x7efac1215413]\n  [bt] (7) /usr/local/lib/python3.10/dist-packages/dgl/_ffi/_cy3/core.cpython-310-x86_64-linux-gnu.so(+0x15c2b) [0x7efac1215c2b]\n  [bt] (8) /usr/bin/python3(_PyObject_MakeTpCall+0x25b) [0x5843fb46a5eb]\n\n"
          ]
        }
      ]
    },
    {
      "cell_type": "code",
      "source": [],
      "metadata": {
        "id": "ufCONWa79KoH"
      },
      "execution_count": null,
      "outputs": []
    },
    {
      "cell_type": "markdown",
      "source": [
        "# how to batch graphs with different schema, a workaround"
      ],
      "metadata": {
        "id": "YPfo1puj9oEc"
      }
    },
    {
      "cell_type": "code",
      "source": [
        "hg1 = dgl.heterograph({\n",
        "    ('user', 'plays', 'game') : (th.tensor([0, 1]), th.tensor([0, 0])),\n",
        "    ('user', 'follows', 'user') : [],\n",
        "    ('company', 'own', 'game') : []\n",
        "    })\n",
        "hg1.nodes['user'].data['feature']=torch.randn(2, 10)\n",
        "hg1.nodes['game'].data['feature']=torch.randn(1, 8)\n",
        "\n",
        "\n",
        "\n",
        "hg3 = dgl.heterograph({\n",
        "    ('user', 'follows', 'user') : (th.tensor([0]), th.tensor([1])),\n",
        "    ('user', 'plays', 'game') : [],\n",
        "    ('company', 'own', 'game') : []\n",
        "    })\n",
        "hg3.nodes['user'].data['feature']=torch.randn(2, 10)"
      ],
      "metadata": {
        "id": "fXqUtz5t6eZ_"
      },
      "execution_count": 47,
      "outputs": []
    },
    {
      "cell_type": "code",
      "source": [
        "hg1"
      ],
      "metadata": {
        "id": "KH1sbRWY6pUe",
        "outputId": "0307e878-45d2-4d61-94a1-dcbbafba357e",
        "colab": {
          "base_uri": "https://localhost:8080/"
        }
      },
      "execution_count": 48,
      "outputs": [
        {
          "output_type": "execute_result",
          "data": {
            "text/plain": [
              "Graph(num_nodes={'company': 0, 'game': 1, 'user': 2},\n",
              "      num_edges={('company', 'own', 'game'): 0, ('user', 'follows', 'user'): 0, ('user', 'plays', 'game'): 2},\n",
              "      metagraph=[('company', 'game', 'own'), ('user', 'user', 'follows'), ('user', 'game', 'plays')])"
            ]
          },
          "metadata": {},
          "execution_count": 48
        }
      ]
    },
    {
      "cell_type": "code",
      "source": [
        "hg1.ndata"
      ],
      "metadata": {
        "id": "7XgfuQFP7d_N",
        "outputId": "15f72ebb-2520-471a-abfa-84dce0524646",
        "colab": {
          "base_uri": "https://localhost:8080/"
        }
      },
      "execution_count": 49,
      "outputs": [
        {
          "output_type": "execute_result",
          "data": {
            "text/plain": [
              "defaultdict(<class 'dict'>, {'feature': {'game': tensor([[-0.0165,  1.2051, -0.8798, -0.4483, -0.2962,  1.2297, -0.1893,  0.5736]]), 'user': tensor([[-0.3241, -1.1517, -0.1897,  1.4397,  0.0798, -0.2200, -0.7886,  0.3273,\n",
              "         -0.5622,  0.3774],\n",
              "        [-0.5301,  0.3028,  0.1678, -1.1464,  0.3405,  0.8191, -0.2724, -0.0692,\n",
              "         -1.1075, -0.2335]])}})"
            ]
          },
          "metadata": {},
          "execution_count": 49
        }
      ]
    },
    {
      "cell_type": "code",
      "source": [
        "hg3"
      ],
      "metadata": {
        "id": "OGZWXiml602T",
        "outputId": "0300bb16-9b55-454c-e02c-b525450e19ef",
        "colab": {
          "base_uri": "https://localhost:8080/"
        }
      },
      "execution_count": 50,
      "outputs": [
        {
          "output_type": "execute_result",
          "data": {
            "text/plain": [
              "Graph(num_nodes={'company': 0, 'game': 0, 'user': 2},\n",
              "      num_edges={('company', 'own', 'game'): 0, ('user', 'follows', 'user'): 1, ('user', 'plays', 'game'): 0},\n",
              "      metagraph=[('company', 'game', 'own'), ('user', 'user', 'follows'), ('user', 'game', 'plays')])"
            ]
          },
          "metadata": {},
          "execution_count": 50
        }
      ]
    },
    {
      "cell_type": "code",
      "source": [
        "bhg13 = dgl.batch([hg1, hg3])\n",
        "bhg13"
      ],
      "metadata": {
        "id": "Ttd5h3Ut6-Na",
        "outputId": "33b00bca-b0da-4b94-82bc-d5222ea651f0",
        "colab": {
          "base_uri": "https://localhost:8080/"
        }
      },
      "execution_count": 51,
      "outputs": [
        {
          "output_type": "execute_result",
          "data": {
            "text/plain": [
              "Graph(num_nodes={'company': 0, 'game': 1, 'user': 4},\n",
              "      num_edges={('company', 'own', 'game'): 0, ('user', 'follows', 'user'): 1, ('user', 'plays', 'game'): 2},\n",
              "      metagraph=[('company', 'game', 'own'), ('user', 'user', 'follows'), ('user', 'game', 'plays')])"
            ]
          },
          "metadata": {},
          "execution_count": 51
        }
      ]
    },
    {
      "cell_type": "code",
      "source": [],
      "metadata": {
        "id": "KIA6Ed_d7Ly5"
      },
      "execution_count": null,
      "outputs": []
    }
  ],
  "metadata": {
    "colab": {
      "name": "scratchpad",
      "provenance": [],
      "toc_visible": true,
      "gpuType": "T4",
      "include_colab_link": true
    },
    "kernelspec": {
      "display_name": "Python 3",
      "name": "python3"
    },
    "accelerator": "GPU"
  },
  "nbformat": 4,
  "nbformat_minor": 0
}